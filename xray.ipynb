{
  "nbformat": 4,
  "nbformat_minor": 0,
  "metadata": {
    "colab": {
      "name": "xray.ipynb",
      "provenance": [],
      "collapsed_sections": [],
      "authorship_tag": "ABX9TyPAbMqEJhowprEkr3Rn+9wD",
      "include_colab_link": true
    },
    "kernelspec": {
      "name": "python3",
      "display_name": "Python 3"
    }
  },
  "cells": [
    {
      "cell_type": "markdown",
      "metadata": {
        "id": "view-in-github",
        "colab_type": "text"
      },
      "source": [
        "<a href=\"https://colab.research.google.com/github/AlexeyZelev/post/blob/master/xray.ipynb\" target=\"_parent\"><img src=\"https://colab.research.google.com/assets/colab-badge.svg\" alt=\"Open In Colab\"/></a>"
      ]
    },
    {
      "cell_type": "code",
      "metadata": {
        "id": "Pzi8KeddsZjo"
      },
      "source": [
        ""
      ],
      "execution_count": null,
      "outputs": []
    },
    {
      "cell_type": "code",
      "metadata": {
        "id": "cReeGurgsau6"
      },
      "source": [
        "from tensorflow.python.keras.preprocessing.image import ImageDataGenerator\n",
        "from tensorflow.python.keras.models import Sequential\n",
        "from tensorflow.python.keras.layers import Conv2D, MaxPooling2D\n",
        "from tensorflow.python.keras.layers import Activation, Dropout, Flatten, Dense"
      ],
      "execution_count": 29,
      "outputs": []
    },
    {
      "cell_type": "code",
      "metadata": {
        "id": "CWnAk47hskus"
      },
      "source": [
        "# Каталог с данными для обучения\n",
        "train_dir = 'train'\n",
        "# Каталог с данными для проверки\n",
        "val_dir = 'val'\n",
        "# Каталог с данными для тестирования\n",
        "test_dir = 'test'\n",
        "# Размеры изображения\n",
        "img_width, img_height = 512, 512\n",
        "# Размерность тензора на основе изображения для входных данных в нейронную сеть\n",
        "# backend Tensorflow, channels_last\n",
        "input_shape = (img_width, img_height, 3)\n",
        "# Количество эпох\n",
        "epochs = 30\n",
        "# Размер мини-выборки\n",
        "batch_size = 4\n",
        "# Количество изображений для обучения\n",
        "nb_train_samples = 50\n",
        "# Количество изображений для проверки\n",
        "nb_validation_samples = 5\n",
        "# Количество изображений для тестирования\n",
        "nb_test_samples = 5"
      ],
      "execution_count": 42,
      "outputs": []
    },
    {
      "cell_type": "code",
      "metadata": {
        "id": "weqfTlc1sqbp"
      },
      "source": [
        "model = Sequential()\n",
        "model.add(Conv2D(32, (3, 3), input_shape=input_shape))\n",
        "model.add(Activation('relu'))\n",
        "model.add(MaxPooling2D(pool_size=(2, 2)))\n",
        "\n",
        "model.add(Conv2D(32, (3, 3)))\n",
        "model.add(Activation('relu'))\n",
        "model.add(MaxPooling2D(pool_size=(2, 2)))\n",
        "\n",
        "model.add(Conv2D(64, (3, 3)))\n",
        "model.add(Activation('relu'))\n",
        "model.add(MaxPooling2D(pool_size=(2, 2)))\n",
        "\n",
        "model.add(Flatten())\n",
        "model.add(Dense(64))\n",
        "model.add(Activation('relu'))\n",
        "model.add(Dropout(0.5))\n",
        "model.add(Dense(1))\n",
        "model.add(Activation('sigmoid'))"
      ],
      "execution_count": 43,
      "outputs": []
    },
    {
      "cell_type": "code",
      "metadata": {
        "id": "_65LrLCIstFs"
      },
      "source": [
        "model.compile(loss='binary_crossentropy',\n",
        "              optimizer='adam',\n",
        "              metrics=['accuracy'])"
      ],
      "execution_count": 44,
      "outputs": []
    },
    {
      "cell_type": "code",
      "metadata": {
        "id": "MUHBROKcsxpp"
      },
      "source": [
        "datagen = ImageDataGenerator(rescale=1. / 255)"
      ],
      "execution_count": 45,
      "outputs": []
    },
    {
      "cell_type": "code",
      "metadata": {
        "id": "c96HxZfxs1M4",
        "outputId": "a7d3b5a6-5b38-4c20-a96a-ad1e67070e09",
        "colab": {
          "base_uri": "https://localhost:8080/"
        }
      },
      "source": [
        "train_generator = datagen.flow_from_directory(\n",
        "    train_dir,\n",
        "    target_size=(img_width, img_height),\n",
        "    batch_size=batch_size,\n",
        "    class_mode='binary')"
      ],
      "execution_count": 46,
      "outputs": [
        {
          "output_type": "stream",
          "text": [
            "Found 83 images belonging to 3 classes.\n"
          ],
          "name": "stdout"
        }
      ]
    },
    {
      "cell_type": "code",
      "metadata": {
        "id": "G2u_XWk6_S7E",
        "outputId": "8a6cb397-c817-4b77-ddc4-f5988d669cc1",
        "colab": {
          "base_uri": "https://localhost:8080/"
        }
      },
      "source": [
        "val_generator = datagen.flow_from_directory(\n",
        "    val_dir,\n",
        "    target_size=(img_width, img_height),\n",
        "    batch_size=batch_size,\n",
        "    class_mode='binary')"
      ],
      "execution_count": 47,
      "outputs": [
        {
          "output_type": "stream",
          "text": [
            "Found 7 images belonging to 3 classes.\n"
          ],
          "name": "stdout"
        }
      ]
    },
    {
      "cell_type": "code",
      "metadata": {
        "id": "rq5TouCy_UCT",
        "outputId": "061fb81c-4227-4034-87aa-8afec26ef25c",
        "colab": {
          "base_uri": "https://localhost:8080/"
        }
      },
      "source": [
        "test_generator = datagen.flow_from_directory(\n",
        "    test_dir,\n",
        "    target_size=(img_width, img_height),\n",
        "    batch_size=batch_size,\n",
        "    class_mode='binary')"
      ],
      "execution_count": 48,
      "outputs": [
        {
          "output_type": "stream",
          "text": [
            "Found 8 images belonging to 3 classes.\n"
          ],
          "name": "stdout"
        }
      ]
    },
    {
      "cell_type": "markdown",
      "metadata": {
        "id": "DQ2x_LVQtVtJ"
      },
      "source": [
        "**Обучаем модель с использованием генераторов**\n",
        "\n",
        "train_generator - генератор данных для обучения\n",
        "\n",
        "validation_data - генератор данных для проверки"
      ]
    },
    {
      "cell_type": "code",
      "metadata": {
        "id": "wE_ozVDMs7YG",
        "outputId": "8de6d253-2272-4260-fe88-2276753876e1",
        "colab": {
          "base_uri": "https://localhost:8080/"
        }
      },
      "source": [
        "model.fit_generator(\n",
        "    train_generator,\n",
        "    steps_per_epoch=nb_train_samples // batch_size,\n",
        "    epochs=epochs,\n",
        "    validation_data=val_generator,\n",
        "    validation_steps=nb_validation_samples // batch_size)"
      ],
      "execution_count": 49,
      "outputs": [
        {
          "output_type": "stream",
          "text": [
            "Epoch 1/30\n",
            "12/12 [==============================] - 15s 1s/step - loss: -4.8396 - accuracy: 0.8723 - val_loss: 0.0000e+00 - val_accuracy: 1.0000\n",
            "Epoch 2/30\n",
            "12/12 [==============================] - 15s 1s/step - loss: -57.9457 - accuracy: 0.9787 - val_loss: -1177.3221 - val_accuracy: 0.7500\n",
            "Epoch 3/30\n",
            "12/12 [==============================] - 15s 1s/step - loss: -536.4203 - accuracy: 0.9574 - val_loss: 0.0000e+00 - val_accuracy: 1.0000\n",
            "Epoch 4/30\n",
            "12/12 [==============================] - 15s 1s/step - loss: -2684.1267 - accuracy: 0.9375 - val_loss: 0.0000e+00 - val_accuracy: 1.0000\n",
            "Epoch 5/30\n",
            "12/12 [==============================] - 15s 1s/step - loss: -3834.9592 - accuracy: 0.9792 - val_loss: -91348.2109 - val_accuracy: 0.7500\n",
            "Epoch 6/30\n",
            "12/12 [==============================] - 15s 1s/step - loss: -16628.3320 - accuracy: 0.9574 - val_loss: 0.0000e+00 - val_accuracy: 1.0000\n",
            "Epoch 7/30\n",
            "12/12 [==============================] - 15s 1s/step - loss: -60801.7227 - accuracy: 0.9574 - val_loss: -579143.2500 - val_accuracy: 0.7500\n",
            "Epoch 8/30\n",
            "12/12 [==============================] - 15s 1s/step - loss: -300194.7500 - accuracy: 0.9167 - val_loss: 0.0000e+00 - val_accuracy: 1.0000\n",
            "Epoch 9/30\n",
            "12/12 [==============================] - 15s 1s/step - loss: -752070.3125 - accuracy: 0.9375 - val_loss: -4565921.5000 - val_accuracy: 0.7500\n",
            "Epoch 10/30\n",
            "12/12 [==============================] - 15s 1s/step - loss: -1570725.6250 - accuracy: 0.9375 - val_loss: -9748587.0000 - val_accuracy: 0.7500\n",
            "Epoch 11/30\n",
            "12/12 [==============================] - 15s 1s/step - loss: -2481396.0000 - accuracy: 0.9583 - val_loss: -16341346.0000 - val_accuracy: 0.7500\n",
            "Epoch 12/30\n",
            "12/12 [==============================] - 15s 1s/step - loss: -6848872.5000 - accuracy: 0.9375 - val_loss: -30387700.0000 - val_accuracy: 0.7500\n",
            "Epoch 13/30\n",
            "12/12 [==============================] - 15s 1s/step - loss: -4764672.5000 - accuracy: 0.9574 - val_loss: 0.0000e+00 - val_accuracy: 1.0000\n",
            "Epoch 14/30\n",
            "12/12 [==============================] - 15s 1s/step - loss: -11194229.0000 - accuracy: 0.9583 - val_loss: 0.0000e+00 - val_accuracy: 1.0000\n",
            "Epoch 15/30\n",
            "12/12 [==============================] - 15s 1s/step - loss: -17445846.0000 - accuracy: 0.9583 - val_loss: 0.0000e+00 - val_accuracy: 1.0000\n",
            "Epoch 16/30\n",
            "12/12 [==============================] - 15s 1s/step - loss: -8894707.0000 - accuracy: 0.9792 - val_loss: 0.0000e+00 - val_accuracy: 1.0000\n",
            "Epoch 17/30\n",
            "12/12 [==============================] - 15s 1s/step - loss: -52078596.0000 - accuracy: 0.9149 - val_loss: -230998720.0000 - val_accuracy: 0.7500\n",
            "Epoch 18/30\n",
            "12/12 [==============================] - 15s 1s/step - loss: -53934516.0000 - accuracy: 0.9362 - val_loss: -320070144.0000 - val_accuracy: 0.7500\n",
            "Epoch 19/30\n",
            "12/12 [==============================] - 15s 1s/step - loss: -54363212.0000 - accuracy: 0.9583 - val_loss: -434410048.0000 - val_accuracy: 0.7500\n",
            "Epoch 20/30\n",
            "12/12 [==============================] - 15s 1s/step - loss: -45238908.0000 - accuracy: 0.9787 - val_loss: 0.0000e+00 - val_accuracy: 1.0000\n",
            "Epoch 21/30\n",
            "12/12 [==============================] - 15s 1s/step - loss: -219219024.0000 - accuracy: 0.9149 - val_loss: 0.0000e+00 - val_accuracy: 1.0000\n",
            "Epoch 22/30\n",
            "12/12 [==============================] - 15s 1s/step - loss: -337478624.0000 - accuracy: 0.9149 - val_loss: -1152389504.0000 - val_accuracy: 0.7500\n",
            "Epoch 23/30\n",
            "12/12 [==============================] - 15s 1s/step - loss: -200053008.0000 - accuracy: 0.9583 - val_loss: 0.0000e+00 - val_accuracy: 1.0000\n",
            "Epoch 24/30\n",
            "12/12 [==============================] - 15s 1s/step - loss: -224442512.0000 - accuracy: 0.9583 - val_loss: -1827206400.0000 - val_accuracy: 0.7500\n",
            "Epoch 25/30\n",
            "12/12 [==============================] - 15s 1s/step - loss: -548947648.0000 - accuracy: 0.9375 - val_loss: 0.0000e+00 - val_accuracy: 1.0000\n",
            "Epoch 26/30\n",
            "12/12 [==============================] - 15s 1s/step - loss: -496410112.0000 - accuracy: 0.9375 - val_loss: -2878557184.0000 - val_accuracy: 0.7500\n",
            "Epoch 27/30\n",
            "12/12 [==============================] - 15s 1s/step - loss: -828019456.0000 - accuracy: 0.9375 - val_loss: 0.0000e+00 - val_accuracy: 1.0000\n",
            "Epoch 28/30\n",
            "12/12 [==============================] - 15s 1s/step - loss: -1194706688.0000 - accuracy: 0.9362 - val_loss: -4532603904.0000 - val_accuracy: 0.7500\n",
            "Epoch 29/30\n",
            "12/12 [==============================] - 15s 1s/step - loss: -931265664.0000 - accuracy: 0.9574 - val_loss: -5512076288.0000 - val_accuracy: 0.7500\n",
            "Epoch 30/30\n",
            "12/12 [==============================] - 15s 1s/step - loss: -1132241280.0000 - accuracy: 0.9574 - val_loss: -6659267584.0000 - val_accuracy: 0.7500\n"
          ],
          "name": "stdout"
        },
        {
          "output_type": "execute_result",
          "data": {
            "text/plain": [
              "<tensorflow.python.keras.callbacks.History at 0x7f99743fd6a0>"
            ]
          },
          "metadata": {
            "tags": []
          },
          "execution_count": 49
        }
      ]
    },
    {
      "cell_type": "markdown",
      "metadata": {
        "id": "acPRzjZJtNB7"
      },
      "source": [
        "Оцениваем качество работы сети с помощью генератора"
      ]
    },
    {
      "cell_type": "code",
      "metadata": {
        "id": "FjqrM5lptFZ4"
      },
      "source": [
        "scores = model.evaluate_generator(test_generator, nb_test_samples // batch_size)"
      ],
      "execution_count": 50,
      "outputs": []
    },
    {
      "cell_type": "code",
      "metadata": {
        "id": "C1M_cfm_tKUn",
        "outputId": "6ad91c53-8e24-4dde-fac1-4702ac64141d",
        "colab": {
          "base_uri": "https://localhost:8080/"
        }
      },
      "source": [
        "\n",
        "print(\"Аккуратность на тестовых данных: %.2f%%\" % (scores[1]*100))"
      ],
      "execution_count": 51,
      "outputs": [
        {
          "output_type": "stream",
          "text": [
            "Аккуратность на тестовых данных: 100.00%\n"
          ],
          "name": "stdout"
        }
      ]
    }
  ]
}