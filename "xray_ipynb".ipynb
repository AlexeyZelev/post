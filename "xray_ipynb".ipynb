{
  "nbformat": 4,
  "nbformat_minor": 0,
  "metadata": {
    "colab": {
      "name": "Копия блокнота \"xray.ipynb\"",
      "provenance": [],
      "collapsed_sections": [],
      "authorship_tag": "ABX9TyOPiHopkfD5VxD/eAZ6oSY6",
      "include_colab_link": true
    },
    "kernelspec": {
      "name": "python3",
      "display_name": "Python 3"
    }
  },
  "cells": [
    {
      "cell_type": "markdown",
      "metadata": {
        "id": "view-in-github",
        "colab_type": "text"
      },
      "source": [
        "<a href=\"https://colab.research.google.com/github/AlexeyZelev/post/blob/master/%22xray_ipynb%22.ipynb\" target=\"_parent\"><img src=\"https://colab.research.google.com/assets/colab-badge.svg\" alt=\"Open In Colab\"/></a>"
      ]
    },
    {
      "cell_type": "code",
      "metadata": {
        "id": "Pzi8KeddsZjo"
      },
      "source": [
        ""
      ],
      "execution_count": null,
      "outputs": []
    },
    {
      "cell_type": "code",
      "metadata": {
        "id": "cReeGurgsau6"
      },
      "source": [
        "from tensorflow.python.keras.preprocessing.image import ImageDataGenerator\n",
        "from tensorflow.python.keras.models import Sequential\n",
        "from tensorflow.python.keras.layers import Conv2D, MaxPooling2D\n",
        "from tensorflow.python.keras.layers import Activation, Dropout, Flatten, Dense"
      ],
      "execution_count": 3,
      "outputs": []
    },
    {
      "cell_type": "code",
      "metadata": {
        "id": "CWnAk47hskus"
      },
      "source": [
        "# Каталог с данными для обучения\n",
        "train_dir = 'train'\n",
        "# Каталог с данными для проверки\n",
        "val_dir = 'val'\n",
        "# Каталог с данными для тестирования\n",
        "#test_dir = 'test'\n",
        "# Размеры изображения\n",
        "img_width, img_height = 512, 512\n",
        "# Размерность тензора на основе изображения для входных данных в нейронную сеть\n",
        "# backend Tensorflow, channels_last\n",
        "input_shape = (img_width, img_height, 3)\n",
        "# Количество эпох\n",
        "epochs = 30\n",
        "# Размер мини-выборки\n",
        "batch_size = 4\n",
        "# Количество изображений для обучения\n",
        "nb_train_samples = 50\n",
        "# Количество изображений для проверки\n",
        "nb_validation_samples = 5\n",
        "# Количество изображений для тестирования\n",
        "nb_test_samples = 5"
      ],
      "execution_count": 16,
      "outputs": []
    },
    {
      "cell_type": "code",
      "metadata": {
        "id": "weqfTlc1sqbp"
      },
      "source": [
        "model = Sequential()\n",
        "model.add(Conv2D(32, (3, 3), input_shape=input_shape))\n",
        "model.add(Activation('relu'))\n",
        "model.add(MaxPooling2D(pool_size=(2, 2)))\n",
        "\n",
        "model.add(Conv2D(32, (3, 3)))\n",
        "model.add(Activation('relu'))\n",
        "model.add(MaxPooling2D(pool_size=(2, 2)))\n",
        "\n",
        "model.add(Conv2D(64, (3, 3)))\n",
        "model.add(Activation('relu'))\n",
        "model.add(MaxPooling2D(pool_size=(2, 2)))\n",
        "\n",
        "model.add(Flatten())\n",
        "model.add(Dense(64))\n",
        "model.add(Activation('relu'))\n",
        "model.add(Dropout(0.5))\n",
        "model.add(Dense(1))\n",
        "model.add(Activation('sigmoid'))"
      ],
      "execution_count": 17,
      "outputs": []
    },
    {
      "cell_type": "code",
      "metadata": {
        "id": "_65LrLCIstFs"
      },
      "source": [
        "model.compile(loss='binary_crossentropy',\n",
        "              optimizer='adam',\n",
        "              metrics=['accuracy'])"
      ],
      "execution_count": 18,
      "outputs": []
    },
    {
      "cell_type": "code",
      "metadata": {
        "id": "MUHBROKcsxpp"
      },
      "source": [
        "datagen = ImageDataGenerator(rescale=1. / 255)"
      ],
      "execution_count": 19,
      "outputs": []
    },
    {
      "cell_type": "code",
      "metadata": {
        "id": "c96HxZfxs1M4",
        "outputId": "7088aaf3-9abc-4274-969e-8d768cf6b569",
        "colab": {
          "base_uri": "https://localhost:8080/"
        }
      },
      "source": [
        "train_generator = datagen.flow_from_directory(\n",
        "    train_dir,\n",
        "    target_size=(img_width, img_height),\n",
        "    batch_size=batch_size,\n",
        "    class_mode='binary')"
      ],
      "execution_count": 20,
      "outputs": [
        {
          "output_type": "stream",
          "text": [
            "Found 49 images belonging to 3 classes.\n"
          ],
          "name": "stdout"
        }
      ]
    },
    {
      "cell_type": "code",
      "metadata": {
        "id": "G2u_XWk6_S7E",
        "outputId": "2c1e6c7c-5d99-4ec3-9100-38b3636209b2",
        "colab": {
          "base_uri": "https://localhost:8080/"
        }
      },
      "source": [
        "val_generator = datagen.flow_from_directory(\n",
        "    val_dir,\n",
        "    target_size=(img_width, img_height),\n",
        "    batch_size=batch_size,\n",
        "    class_mode='binary')"
      ],
      "execution_count": 21,
      "outputs": [
        {
          "output_type": "stream",
          "text": [
            "Found 9 images belonging to 3 classes.\n"
          ],
          "name": "stdout"
        }
      ]
    },
    {
      "cell_type": "code",
      "metadata": {
        "id": "rq5TouCy_UCT",
        "outputId": "061fb81c-4227-4034-87aa-8afec26ef25c",
        "colab": {
          "base_uri": "https://localhost:8080/"
        }
      },
      "source": [
        "test_generator = datagen.flow_from_directory(\n",
        "    test_dir,\n",
        "    target_size=(img_width, img_height),\n",
        "    batch_size=batch_size,\n",
        "    class_mode='binary')"
      ],
      "execution_count": null,
      "outputs": [
        {
          "output_type": "stream",
          "text": [
            "Found 8 images belonging to 3 classes.\n"
          ],
          "name": "stdout"
        }
      ]
    },
    {
      "cell_type": "markdown",
      "metadata": {
        "id": "DQ2x_LVQtVtJ"
      },
      "source": [
        "**Обучаем модель с использованием генераторов**\n",
        "\n",
        "train_generator - генератор данных для обучения\n",
        "\n",
        "validation_data - генератор данных для проверки"
      ]
    },
    {
      "cell_type": "code",
      "metadata": {
        "id": "wE_ozVDMs7YG",
        "outputId": "41ac8fdd-877b-4604-b6c3-92b994fb2c2f",
        "colab": {
          "base_uri": "https://localhost:8080/"
        }
      },
      "source": [
        "model.fit_generator(\n",
        "    train_generator,\n",
        "    steps_per_epoch=nb_train_samples // batch_size,\n",
        "    epochs=epochs,\n",
        "    validation_data=val_generator,\n",
        "    validation_steps=nb_validation_samples // batch_size)"
      ],
      "execution_count": 22,
      "outputs": [
        {
          "output_type": "stream",
          "text": [
            "WARNING:tensorflow:From <ipython-input-22-3bb64fd7de71>:6: Model.fit_generator (from tensorflow.python.keras.engine.training) is deprecated and will be removed in a future version.\n",
            "Instructions for updating:\n",
            "Please use Model.fit, which supports generators.\n",
            "Epoch 1/30\n",
            "12/12 [==============================] - 14s 1s/step - loss: -1.6053 - accuracy: 0.9556 - val_loss: 0.0000e+00 - val_accuracy: 1.0000\n",
            "Epoch 2/30\n",
            "12/12 [==============================] - 14s 1s/step - loss: -9.5269 - accuracy: 0.9778 - val_loss: 0.0000e+00 - val_accuracy: 1.0000\n",
            "Epoch 3/30\n",
            "12/12 [==============================] - 14s 1s/step - loss: 0.0000e+00 - accuracy: 1.0000 - val_loss: 0.0000e+00 - val_accuracy: 1.0000\n",
            "Epoch 4/30\n",
            "12/12 [==============================] - 14s 1s/step - loss: -78.4720 - accuracy: 0.9778 - val_loss: -3387.1606 - val_accuracy: 0.7500\n",
            "Epoch 5/30\n",
            "12/12 [==============================] - 15s 1s/step - loss: -722.0624 - accuracy: 0.9778 - val_loss: 0.0000e+00 - val_accuracy: 1.0000\n",
            "Epoch 6/30\n",
            "12/12 [==============================] - 15s 1s/step - loss: -703.3527 - accuracy: 0.9778 - val_loss: -32099.4805 - val_accuracy: 0.7500\n",
            "Epoch 7/30\n",
            "12/12 [==============================] - 14s 1s/step - loss: -2262.4553 - accuracy: 0.9778 - val_loss: 0.0000e+00 - val_accuracy: 1.0000\n",
            "Epoch 8/30\n",
            "12/12 [==============================] - 14s 1s/step - loss: -12072.5449 - accuracy: 0.9778 - val_loss: 0.0000e+00 - val_accuracy: 1.0000\n",
            "Epoch 9/30\n",
            "12/12 [==============================] - 19s 2s/step - loss: -18783.2812 - accuracy: 0.9778 - val_loss: 0.0000e+00 - val_accuracy: 1.0000\n",
            "Epoch 10/30\n",
            "12/12 [==============================] - 14s 1s/step - loss: 0.0000e+00 - accuracy: 1.0000 - val_loss: 0.0000e+00 - val_accuracy: 1.0000\n",
            "Epoch 11/30\n",
            "12/12 [==============================] - 14s 1s/step - loss: -71439.6875 - accuracy: 0.9778 - val_loss: 0.0000e+00 - val_accuracy: 1.0000\n",
            "Epoch 12/30\n",
            "12/12 [==============================] - 14s 1s/step - loss: -123260.1562 - accuracy: 0.9778 - val_loss: -1496352.6250 - val_accuracy: 0.7500\n",
            "Epoch 13/30\n",
            "12/12 [==============================] - 14s 1s/step - loss: -195885.4219 - accuracy: 0.9778 - val_loss: 0.0000e+00 - val_accuracy: 1.0000\n",
            "Epoch 14/30\n",
            "12/12 [==============================] - 14s 1s/step - loss: -343332.9375 - accuracy: 0.9778 - val_loss: -5223961.0000 - val_accuracy: 0.7500\n",
            "Epoch 15/30\n",
            "12/12 [==============================] - 14s 1s/step - loss: -524220.8438 - accuracy: 0.9778 - val_loss: -7451480.5000 - val_accuracy: 0.7500\n",
            "Epoch 16/30\n",
            "12/12 [==============================] - 15s 1s/step - loss: 0.0000e+00 - accuracy: 1.0000 - val_loss: 0.0000e+00 - val_accuracy: 1.0000\n",
            "Epoch 17/30\n",
            "12/12 [==============================] - 14s 1s/step - loss: 0.0000e+00 - accuracy: 1.0000 - val_loss: 0.0000e+00 - val_accuracy: 1.0000\n",
            "Epoch 18/30\n",
            "12/12 [==============================] - 14s 1s/step - loss: -786687.1875 - accuracy: 0.9778 - val_loss: -12951757.0000 - val_accuracy: 0.7500\n",
            "Epoch 19/30\n",
            "12/12 [==============================] - 15s 1s/step - loss: -935604.3750 - accuracy: 0.9778 - val_loss: -19322888.0000 - val_accuracy: 0.7500\n",
            "Epoch 20/30\n",
            "12/12 [==============================] - 14s 1s/step - loss: 0.0000e+00 - accuracy: 1.0000 - val_loss: -22626028.0000 - val_accuracy: 0.7500\n",
            "Epoch 21/30\n",
            "12/12 [==============================] - 14s 1s/step - loss: -1861267.5000 - accuracy: 0.9778 - val_loss: -27938868.0000 - val_accuracy: 0.7500\n",
            "Epoch 22/30\n",
            "12/12 [==============================] - 14s 1s/step - loss: -2719921.0000 - accuracy: 0.9778 - val_loss: -40940184.0000 - val_accuracy: 0.7500\n",
            "Epoch 23/30\n",
            "12/12 [==============================] - 14s 1s/step - loss: -4377151.0000 - accuracy: 0.9778 - val_loss: 0.0000e+00 - val_accuracy: 1.0000\n",
            "Epoch 24/30\n",
            "12/12 [==============================] - 14s 1s/step - loss: -6946352.5000 - accuracy: 0.9778 - val_loss: 0.0000e+00 - val_accuracy: 1.0000\n",
            "Epoch 25/30\n",
            "12/12 [==============================] - 14s 1s/step - loss: -11245377.0000 - accuracy: 0.9778 - val_loss: -98560824.0000 - val_accuracy: 0.7500\n",
            "Epoch 26/30\n",
            "12/12 [==============================] - 14s 1s/step - loss: -8289711.0000 - accuracy: 0.9778 - val_loss: -137542208.0000 - val_accuracy: 0.7500\n",
            "Epoch 27/30\n",
            "12/12 [==============================] - 14s 1s/step - loss: -12852985.0000 - accuracy: 0.9778 - val_loss: -175582880.0000 - val_accuracy: 0.7500\n",
            "Epoch 28/30\n",
            "12/12 [==============================] - 14s 1s/step - loss: -17419576.0000 - accuracy: 0.9778 - val_loss: -218856736.0000 - val_accuracy: 0.7500\n",
            "Epoch 29/30\n",
            "12/12 [==============================] - 14s 1s/step - loss: 0.0000e+00 - accuracy: 1.0000 - val_loss: -259204304.0000 - val_accuracy: 0.7500\n",
            "Epoch 30/30\n",
            "12/12 [==============================] - 14s 1s/step - loss: -22554834.0000 - accuracy: 0.9778 - val_loss: 0.0000e+00 - val_accuracy: 1.0000\n"
          ],
          "name": "stdout"
        },
        {
          "output_type": "execute_result",
          "data": {
            "text/plain": [
              "<tensorflow.python.keras.callbacks.History at 0x7f9ceac62080>"
            ]
          },
          "metadata": {
            "tags": []
          },
          "execution_count": 22
        }
      ]
    },
    {
      "cell_type": "markdown",
      "metadata": {
        "id": "rIf1lqGDTxRt"
      },
      "source": [
        "Сохраняем модель\n"
      ]
    },
    {
      "cell_type": "code",
      "metadata": {
        "id": "F21I2B0nTWxA"
      },
      "source": [
        "model.save('xray.h5')"
      ],
      "execution_count": 24,
      "outputs": []
    },
    {
      "cell_type": "markdown",
      "metadata": {
        "id": "acPRzjZJtNB7"
      },
      "source": [
        "Оцениваем качество работы сети с помощью генератора"
      ]
    },
    {
      "cell_type": "code",
      "metadata": {
        "id": "FjqrM5lptFZ4"
      },
      "source": [
        "scores = model.evaluate_generator(test_generator, nb_test_samples // batch_size)"
      ],
      "execution_count": null,
      "outputs": []
    },
    {
      "cell_type": "code",
      "metadata": {
        "id": "C1M_cfm_tKUn",
        "outputId": "6ad91c53-8e24-4dde-fac1-4702ac64141d",
        "colab": {
          "base_uri": "https://localhost:8080/"
        }
      },
      "source": [
        "\n",
        "print(\"Аккуратность на тестовых данных: %.2f%%\" % (scores[1]*100))"
      ],
      "execution_count": null,
      "outputs": [
        {
          "output_type": "stream",
          "text": [
            "Аккуратность на тестовых данных: 100.00%\n"
          ],
          "name": "stdout"
        }
      ]
    }
  ]
}